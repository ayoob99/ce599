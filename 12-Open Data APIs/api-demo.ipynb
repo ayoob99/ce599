{
 "cells": [
  {
   "cell_type": "markdown",
   "metadata": {},
   "source": [
    "# Working with Data APIs\n",
    "\n",
    "**Sam Maurer // maurer@berkeley.edu // Oct. 3, 2016**\n",
    "\n",
    "This notebook provides a demonstration of data-access APIs that operate over the web. See README.md for setup instructions.\n",
    "\n",
    "In Part 1, we'll load and parse results from an API feed of earthquake data.  \n",
    "In Part 2, we'll add query parameters to the workflow, using the Google Maps Geolocation API as an example.  \n",
    "In Part 3, we'll use an authenticated API to query public Twitter posts. "
   ]
  },
  {
   "cell_type": "markdown",
   "metadata": {},
   "source": [
    "# Part 1: Reading from an automated data feed\n",
    "\n",
    "### USGS real-time earthquake feeds\n",
    "\n",
    "This is an API for near-real-time data about earthquakes. Data is provided in JSON format over the web. No authentication is needed, and there's no way to customize the output. Instead, the API has a separate endpoint for each permutation of the data that users might want.\n",
    "\n",
    "**API documentation:**  \n",
    "http://earthquake.usgs.gov/earthquakes/feed/v1.0/geojson.php\n",
    "\n",
    "**Sample API endpoint, for magnitude 4.5+ earthquakes in past day:**  \n",
    "http://earthquake.usgs.gov/earthquakes/feed/v1.0/summary/4.5_day.geojson  \n"
   ]
  },
  {
   "cell_type": "code",
   "execution_count": 1,
   "metadata": {
    "collapsed": true
   },
   "outputs": [],
   "source": [
    "%matplotlib inline\n",
    "\n",
    "import pandas as pd\n",
    "\n",
    "import json    # library for working with JSON-formatted text strings\n",
    "import requests  # library for accessing content from web URLs\n",
    "\n",
    "import pprint  # library for making Python data structures readable\n",
    "pp = pprint.PrettyPrinter()"
   ]
  },
  {
   "cell_type": "code",
   "execution_count": 2,
   "metadata": {},
   "outputs": [
    {
     "name": "stdout",
     "output_type": "stream",
     "text": [
      "<class 'str'>\n"
     ]
    }
   ],
   "source": [
    "# download data on magnitude 2.5+ quakes from the past week\n",
    "\n",
    "endpoint_url = \"http://earthquake.usgs.gov/earthquakes/feed/v1.0/summary/2.5_week.geojson\"\n",
    "response = requests.get(endpoint_url)\n",
    "results = response.text\n",
    "\n",
    "# what is the data type of the results?\n",
    "print(type(results))"
   ]
  },
  {
   "cell_type": "code",
   "execution_count": 3,
   "metadata": {},
   "outputs": [
    {
     "name": "stdout",
     "output_type": "stream",
     "text": [
      "{\"type\":\"FeatureCollection\",\"metadata\":{\"generated\":1518150609000,\"url\":\"https://earthquake.usgs.gov/earthquakes/feed/v1.0/summary/2.5_week.geojson\",\"title\":\"USGS Magnitude 2.5+ Earthquakes, Past Week\",\"status\":200,\"api\":\"1.5.8\",\"count\":323},\"features\":[{\"type\":\"Feature\",\"properties\":{\"mag\":4.7,\"place\":\"9km SSE of Hualian, Taiwan\",\"time\":1518142442030,\"updated\":1518144343040,\"tz\":480,\"url\":\"https://earthquake.usgs.gov/earthquakes/eventpage/us2000cz9q\",\"detail\":\"https://earthquake.usgs.gov/earthq\n"
     ]
    }
   ],
   "source": [
    "# print the first 500 characters to see a sample of the data\n",
    "\n",
    "print(results[:500])"
   ]
  },
  {
   "cell_type": "code",
   "execution_count": 4,
   "metadata": {},
   "outputs": [
    {
     "name": "stdout",
     "output_type": "stream",
     "text": [
      "<class 'dict'>\n"
     ]
    }
   ],
   "source": [
    "# it looks like the results are a string with JSON-formatted data inside\n",
    "\n",
    "# parse the string into a Python dictionary\n",
    "data = json.loads(results)\n",
    "\n",
    "print(type(data))"
   ]
  },
  {
   "cell_type": "code",
   "execution_count": 5,
   "metadata": {},
   "outputs": [
    {
     "name": "stdout",
     "output_type": "stream",
     "text": [
      "{'type': 'Feature', 'properties': {'mag': 4.7, 'place': '9km SSE of Hualian, Taiwan', 'time': 1518142442030, 'updated': 1518144343040, 'tz': 480, 'url': 'https://earthquake.usgs.gov/earthquakes/eventpage/us2000cz9q', 'detail': 'https://earthquake.usgs.gov/earthquakes/feed/v1.0/detail/us2000cz9q.geojson', 'felt': None, 'cdi': None, 'mmi': None, 'alert': None, 'status': 'reviewed', 'tsunami': 0, 'sig': 340, 'net': 'us', 'code': '2000cz9q', 'ids': ',us2000cz9q,', 'sources': ',us,', 'types': ',geoserve,origin,phase-data,', 'nst': None, 'dmin': 0.281, 'rms': 0.65, 'gap': 95, 'magType': 'mb', 'type': 'earthquake', 'title': 'M 4.7 - 9km SSE of Hualian, Taiwan'}, 'geometry': {'type': 'Point', 'coordinates': [121.6365, 23.8936, 10]}, 'id': 'us2000cz9q'}\n"
     ]
    }
   ],
   "source": [
    "# print the most recent quake\n",
    "\n",
    "quakes = data['features']\n",
    "print(quakes[0])"
   ]
  },
  {
   "cell_type": "code",
   "execution_count": 6,
   "metadata": {},
   "outputs": [
    {
     "name": "stdout",
     "output_type": "stream",
     "text": [
      "{'coordinates': [121.6365, 23.8936, 10], 'type': 'Point'}\n",
      "{'alert': None,\n",
      " 'cdi': None,\n",
      " 'code': '2000cz9q',\n",
      " 'detail': 'https://earthquake.usgs.gov/earthquakes/feed/v1.0/detail/us2000cz9q.geojson',\n",
      " 'dmin': 0.281,\n",
      " 'felt': None,\n",
      " 'gap': 95,\n",
      " 'ids': ',us2000cz9q,',\n",
      " 'mag': 4.7,\n",
      " 'magType': 'mb',\n",
      " 'mmi': None,\n",
      " 'net': 'us',\n",
      " 'nst': None,\n",
      " 'place': '9km SSE of Hualian, Taiwan',\n",
      " 'rms': 0.65,\n",
      " 'sig': 340,\n",
      " 'sources': ',us,',\n",
      " 'status': 'reviewed',\n",
      " 'time': 1518142442030,\n",
      " 'title': 'M 4.7 - 9km SSE of Hualian, Taiwan',\n",
      " 'tsunami': 0,\n",
      " 'type': 'earthquake',\n",
      " 'types': ',geoserve,origin,phase-data,',\n",
      " 'tz': 480,\n",
      " 'updated': 1518144343040,\n",
      " 'url': 'https://earthquake.usgs.gov/earthquakes/eventpage/us2000cz9q'}\n"
     ]
    }
   ],
   "source": [
    "# print it more clearly\n",
    "\n",
    "pp.pprint(quakes[0]['geometry'])\n",
    "pp.pprint(quakes[0]['properties'])"
   ]
  },
  {
   "cell_type": "code",
   "execution_count": 7,
   "metadata": {},
   "outputs": [
    {
     "name": "stdout",
     "output_type": "stream",
     "text": [
      "M 4.7 - 9km SSE of Hualian, Taiwan\n",
      "M 4.3 - 107km SW of Anchor Point, Alaska\n",
      "M 4.7 - 77km SW of Kavieng, Papua New Guinea\n",
      "M 2.6 - 7km S of Hennessey, Oklahoma\n",
      "M 2.5 - 38km S of Pole Ojea, Puerto Rico\n",
      "M 4.4 - 54km WNW of Lebu, Chile\n",
      "M 4.6 - 40km WNW of Lebu, Chile\n",
      "M 5.6 - 40km WNW of Lebu, Chile\n",
      "M 4.2 - 93km SW of Jiajuedibu, China\n",
      "M 2.8 - 4km NNE of Guaynabo, Puerto Rico\n",
      "M 2.9 - 8km S of Hennessey, Oklahoma\n",
      "M 3.7 - 286km SE of Kodiak, Alaska\n",
      "M 3.0 - 16km SE of Y, Alaska\n",
      "M 3.2 - 49km ESE of Punta Cana, Dominican Republic\n",
      "M 5.0 - 176km W of Panguna, Papua New Guinea\n",
      "M 4.2 - 53km SSW of Ust'-Kamchatsk Staryy, Russia\n",
      "M 3.0 - 79km NE of Punta Cana, Dominican Republic\n",
      "M 2.7 - 72km SSE of Akutan, Alaska\n",
      "M 2.7 - 68km NW of San Antonio, Puerto Rico\n",
      "M 2.8 - 78km NNW of Valdez, Alaska\n",
      "M 2.7 - 112km ESE of Kodiak, Alaska\n",
      "M 4.6 - 6km SW of Ogawa, Japan\n",
      "M 4.4 - 258km SE of Kodiak, Alaska\n",
      "M 2.9 - 8km S of Hennessey, Oklahoma\n",
      "M 2.9 - 8km S of Hennessey, Oklahoma\n",
      "M 4.4 - 53km SW of Champerico, Guatemala\n",
      "M 5.6 - 94km NE of Semisopochnoi Island, Alaska\n",
      "M 2.7 - 59km N of Tierras Nuevas Poniente, Puerto Rico\n",
      "M 5.3 - 51km S of Reuleuet, Indonesia\n",
      "M 2.8 - 63km ENE of Miches, Dominican Republic\n",
      "M 4.4 - 54km ESE of Lae, Papua New Guinea\n",
      "M 3.2 - 109km SSE of Kodiak, Alaska\n",
      "M 3.8 - 252km SSE of Kodiak, Alaska\n",
      "M 2.7 - 17km NW of Puerto Real, Puerto Rico\n",
      "M 4.5 - 50km ESE of Tarata, Peru\n",
      "M 3.0 - 191km SE of Kodiak, Alaska\n",
      "M 3.6 - 222km SE of Kodiak, Alaska\n",
      "M 4.8 - 228km SE of Kodiak, Alaska\n",
      "M 2.6 - 9km NW of Aguadilla, Puerto Rico\n",
      "M 2.5 - 71km S of Old Iliamna, Alaska\n",
      "M 4.2 - Gulf of Alaska\n",
      "M 4.7 - 8km SSE of Hualian, Taiwan\n",
      "M 3.5 - 87km NNE of Road Town, British Virgin Islands\n",
      "M 5.6 - Greenland Sea\n",
      "M 3.1 - 59km WSW of Haines, Alaska\n",
      "M 4.3 - 11km WSW of Madang, Papua New Guinea\n",
      "M 4.5 - 142km SE of Nemuro, Japan\n",
      "M 2.8 - 47km ESE of Kodiak, Alaska\n",
      "M 4.3 - 4km SSE of Hualian, Taiwan\n",
      "M 5.2 - 9km SSE of Hualian, Taiwan\n",
      "M 3.2 - 285km SE of Kodiak, Alaska\n",
      "M 3.4 - 229km S of Cape Yakataga, Alaska\n",
      "M 4.5 - 267km SE of Kodiak, Alaska\n",
      "M 3.3 - 27km W of Chignik Lake, Alaska\n",
      "M 2.9 - 4km SW of Gurabo, Puerto Rico\n",
      "M 4.5 - 61km SW of Panenggoede, Indonesia\n",
      "M 2.9 - 220km SE of Kodiak, Alaska\n",
      "M 3.1 - 233km SE of Kodiak, Alaska\n",
      "M 4.7 - 108km NNE of Mount Hagen, Papua New Guinea\n",
      "M 4.5 - 82km NNW of Kota Ternate, Indonesia\n",
      "M 4.5 - 273km SE of Lambasa, Fiji\n",
      "M 2.7 - 89km WNW of Skagway, Alaska\n",
      "M 4.6 - 158km S of Kushiro, Japan\n",
      "M 4.1 - 45km SW of Pyu, Burma\n",
      "M 3.3 - 62km NNW of Charlotte Amalie, U.S. Virgin Islands\n",
      "M 3.2 - 7km S of Hennessey, Oklahoma\n",
      "M 2.7 - 88km W of Petrolia, CA\n",
      "M 2.7 - 7km S of Hennessey, Oklahoma\n",
      "M 5.7 - 17km NE of Hualian, Taiwan\n",
      "M 4.4 - 174km SW of Lorengau, Papua New Guinea\n",
      "M 2.6 - 64km W of Anchor Point, Alaska\n",
      "M 3.4 - 32km SSE of Charlotte Amalie, U.S. Virgin Islands\n",
      "M 4.6 - 15km ESE of Hualian, Taiwan\n",
      "M 2.7 - 16km WNW of Lincoln, Montana\n",
      "M 4.2 - 88km SSW of Acari, Peru\n",
      "M 2.5 - 31km SSW of Hawthorne, Nevada\n",
      "M 5.0 - 21km ENE of Hualian, Taiwan\n",
      "M 5.1 - 164km WNW of Coquimbo, Chile\n",
      "M 3.4 - 260km SE of Kodiak, Alaska\n",
      "M 3.6 - 244km SE of Kodiak, Alaska\n",
      "M 5.3 - 54km E of Ndoi Island, Fiji\n",
      "M 2.5 - 21km S of Tanaga Volcano, Alaska\n",
      "M 4.0 - 285km SE of Kodiak, Alaska\n",
      "M 4.8 - 11km ESE of Hualian, Taiwan\n",
      "M 3.0 - 19km ENE of Anthony, Kansas\n",
      "M 2.8 - 159km ESE of Kodiak, Alaska\n",
      "M 4.1 - 24km NE of Hualian, Taiwan\n",
      "M 4.0 - 72km S of La Libertad, Ecuador\n",
      "M 4.6 - 12km NW of Santa Maria Xadani, Mexico\n",
      "M 3.5 - 57km SSW of Little Sitkin Island, Alaska\n",
      "M 2.8 - 47km SW of Challis, Idaho\n",
      "M 2.6 - 8km NE of Aguanga, CA\n",
      "M 4.6 - South of the Fiji Islands\n",
      "M 2.7 - 55km N of Isabela, Puerto Rico\n",
      "M 2.7 - 58km SW of Anchor Point, Alaska\n",
      "M 4.6 - 115km ENE of Shikotan, Russia\n",
      "M 3.5 - 39km ENE of Fritz Creek, Alaska\n",
      "M 3.5 - 52km SSE of Boca de Yuma, Dominican Republic\n",
      "M 4.8 - 15km ENE of Hualian, Taiwan\n",
      "M 2.5 - 120km NW of Talkeetna, Alaska\n",
      "M 4.8 - 14km ENE of Hualian, Taiwan\n",
      "M 4.1 - Gulf of Alaska\n",
      "M 3.6 - 263km ESE of Kodiak, Alaska\n",
      "M 3.1 - 280km SE of Kodiak, Alaska\n",
      "M 3.8 - 11km WSW of Willow, Alaska\n",
      "M 3.5 - 7km NNW of Houston, Alaska\n",
      "M 2.6 - 91km S of King Salmon, Alaska\n",
      "M 4.7 - 7km E of Hualian, Taiwan\n",
      "M 4.7 - 13km ENE of Hualian, Taiwan\n",
      "M 5.0 - 98km ESE of Vanj, Tajikistan\n",
      "M 4.2 - 42km WSW of Jarm, Afghanistan\n",
      "M 4.4 - 19km S of Jaco, Costa Rica\n",
      "M 3.9 - 283km SE of Kodiak, Alaska\n",
      "M 4.7 - 16km ENE of Hualian, Taiwan\n",
      "M 3.0 - 58km NNE of Sutton-Alpine, Alaska\n",
      "M 4.5 - 43km NNE of Los Andes, Chile\n",
      "M 2.6 - 119km SE of Old Iliamna, Alaska\n",
      "M 4.9 - 17km E of Hualian, Taiwan\n",
      "M 4.0 - 54km NE of Shughnon, Tajikistan\n",
      "M 5.4 - 15km E of Hualian, Taiwan\n",
      "M 5.6 - 69km NNE of Isangel, Vanuatu\n",
      "M 2.7 - 37km S of Boca de Yuma, Dominican Republic\n",
      "M 5.2 - 17km ENE of Hualian, Taiwan\n",
      "M 5.2 - 22km NE of Hualian, Taiwan\n",
      "M 3.7 - 236km SE of Kodiak, Alaska\n",
      "M 5.1 - 6km SE of Hualian, Taiwan\n",
      "M 6.4 - 22km NNE of Hualian, Taiwan\n",
      "M 4.4 - 288km ESE of Kodiak, Alaska\n",
      "M 3.2 - 24km NNE of Punta Cana, Dominican Republic\n",
      "M 4.2 - 11km ESE of Kitaibaraki, Japan\n",
      "M 2.7 - 1km NW of La Playa, Puerto Rico\n",
      "M 4.7 - 39km SSW of Sola, Vanuatu\n",
      "M 3.5 - 264km SE of Kodiak, Alaska\n",
      "M 3.3 - 278km ESE of Kodiak, Alaska\n",
      "M 3.6 - 273km ESE of Kodiak, Alaska\n",
      "M 4.6 - 17km ENE of Hualian, Taiwan\n",
      "M 2.7 - 54km SSW of Redoubt Volcano, Alaska\n",
      "M 2.7 - 17km WNW of Union City, Oklahoma\n",
      "M 2.5 - 11km SE of Pinnacles, CA\n",
      "M 4.4 - 122km W of Kota Ternate, Indonesia\n",
      "M 3.0 - 195km S of Adak, Alaska\n",
      "M 3.1 - 22km WNW of Puerto Real, Puerto Rico\n",
      "M 2.7 - 10km S of Jobos, Puerto Rico\n",
      "M 4.8 - 23km NNE of Hualian, Taiwan\n",
      "M 2.5 - 69km WSW of Tok, Alaska\n",
      "M 4.8 - 6km SW of Carasi, Philippines\n",
      "M 5.0 - 144km W of Constitucion, Chile\n",
      "M 4.2 - 36km WSW of Santa Cruz, Chile\n",
      "M 3.4 - 65km N of San Juan, Puerto Rico\n",
      "M 2.8 - 7km WNW of McFarland, CA\n",
      "M 2.9 - 88km SSE of Old Iliamna, Alaska\n",
      "M 3.1 - 57km SE of Punta Cana, Dominican Republic\n",
      "M 2.7 - 18km SSW of Kettleman City, CA\n",
      "M 4.4 - 49km NNE of Kerman, Iran\n",
      "M 3.4 - 20km ESE of Bear Creek, Alaska\n",
      "M 4.6 - 23km ENE of Bristol Island, South Sandwich Islands\n",
      "M 4.7 - 57km SSW of Acari, Peru\n",
      "M 4.2 - 107km ENE of Lambasa, Fiji\n",
      "M 3.6 - 256km ESE of Kodiak, Alaska\n",
      "M 2.6 - 8km S of Hennessey, Oklahoma\n",
      "M 5.3 - 200km W of Chichi-shima, Japan\n",
      "M 2.8 - 280km SE of Kodiak, Alaska\n",
      "M 2.5 - 10km SW of Niland, CA\n",
      "M 4.3 - 50km S of El Rosario, El Salvador\n",
      "M 4.7 - 139km SW of Callao, Peru\n",
      "M 4.0 - 259km ESE of Kodiak, Alaska\n",
      "M 2.8 - 23km WNW of Puerto Real, Puerto Rico\n",
      "M 3.8 - 234km SE of Kodiak, Alaska\n",
      "M 3.3 - 287km SE of Kodiak, Alaska\n",
      "M 4.6 - 34km SW of Pyu, Burma\n",
      "M 4.9 - 124km NE of Bukama, Democratic Republic of the Congo\n",
      "M 4.6 - 124km WNW of Pangai, Tonga\n",
      "M 4.9 - 21km NE of Hualian, Taiwan\n",
      "M 2.8 - 172km SE of Amatignak Island, Alaska\n",
      "M 4.5 - 13km SSW of Ndoi Island, Fiji\n",
      "M 4.4 - 14km E of Kosh-Agach, Russia\n",
      "M 2.7 - 280km S of Cape Yakataga, Alaska\n",
      "M 3.3 - 91km SW of Anchor Point, Alaska\n",
      "M 2.5 - 8km S of Hennessey, Oklahoma\n",
      "M 2.7 - 276km SE of Kodiak, Alaska\n",
      "M 3.1 - 67km NNE of San Juan, Puerto Rico\n",
      "M 4.4 - 37km SSW of El Rosario, El Salvador\n",
      "M 5.0 - Reykjanes Ridge\n",
      "M 5.2 - Off the east coast of the North Island of New Zealand\n",
      "M 4.7 - 23km NE of Hualian, Taiwan\n",
      "M 2.7 - 28km WNW of Rincon, Puerto Rico\n",
      "M 3.2 - 8km S of Hennessey, Oklahoma\n",
      "M 3.7 - 9km S of Hennessey, Oklahoma\n",
      "M 2.5 - 18km E of Honaunau-Napoopoo, Hawaii\n",
      "M 2.5 - 66km WSW of Tok, Alaska\n",
      "M 3.3 - 18km WSW of Corcoran, CA\n",
      "M 4.1 - 42km SW of Puerto Madero, Mexico\n",
      "M 3.0 - 73km N of Vieques, Puerto Rico\n",
      "M 3.1 - 260km ESE of Kodiak, Alaska\n",
      "M 2.8 - 40km NE of Covelo, CA\n",
      "M 2.7 - 123km NW of Talkeetna, Alaska\n",
      "M 3.7 - 277km ESE of Kodiak, Alaska\n",
      "M 2.6 - 9km WNW of Lewiston, Utah\n",
      "M 4.1 - 6km WSW of La Orilla, Mexico\n",
      "M 2.5 - 4km S of Toms Place, CA\n",
      "M 3.1 - 30km W of Pacific City, Oregon\n",
      "M 4.7 - 24km W of Ilabaya, Peru\n",
      "M 3.1 - 256km SE of Kodiak, Alaska\n",
      "M 5.2 - 42km SSE of Habibola, Indonesia\n",
      "M 4.5 - 18km ESE of Wairoa, New Zealand\n",
      "M 4.0 - 164km SE of Akutan, Alaska\n",
      "M 4.5 - 31km NE of Hualian, Taiwan\n",
      "M 3.0 - 130km NNE of Vieques, Puerto Rico\n",
      "M 2.8 - 29km SE of Larsen Bay, Alaska\n",
      "M 4.7 - 29km NE of Hualian, Taiwan\n",
      "M 3.9 - 106km WNW of Talkeetna, Alaska\n",
      "M 4.5 - 5km NE of Aratoca, Colombia\n",
      "M 4.5 - 39km SE of Rengo, Chile\n",
      "M 2.9 - 6km ENE of Ridgeway, Alaska\n",
      "M 2.7 - 35km NW of Fort Irwin, CA\n",
      "M 5.2 - 18km NE of Hualian, Taiwan\n",
      "M 5.3 - 22km NE of Hualian, Taiwan\n",
      "M 4.9 - 23km NE of Hualian, Taiwan\n",
      "M 6.1 - 21km NNE of Hualian, Taiwan\n",
      "M 4.4 - 191km NE of Nord, Greenland\n",
      "M 2.5 - 20km SE of Bodie, CA\n",
      "M 3.4 - 57km N of Austin, Nevada\n",
      "M 3.1 - 25km W of Anchorage, Alaska\n",
      "M 5.2 - 220km NE of Nord, Greenland\n",
      "M 5.2 - 219km NE of Nord, Greenland\n",
      "M 3.5 - 8km NNW of Gura Teghii, Romania\n",
      "M 5.3 - 24km NNE of Hualian, Taiwan\n",
      "M 3.2 - 20km SSW of San Rafael del Yuma, Dominican Republic\n",
      "M 4.2 - 119km WNW of Copiapo, Chile\n",
      "M 2.7 - 198km SE of Kodiak, Alaska\n",
      "M 2.5 - 80km NW of Yakutat, Alaska\n",
      "M 3.1 - 18km SSE of Lindsay, Oklahoma\n",
      "M 2.8 - 51km NW of Aguadilla, Puerto Rico\n",
      "M 5.0 - Southern Mid-Atlantic Ridge\n",
      "M 4.1 - 60km S of Thongwa, Burma\n",
      "M 4.3 - 72km SSW of Little Sitkin Island, Alaska\n",
      "M 3.1 - 12km NNW of Friday Harbor, Washington\n",
      "M 3.5 - 74km WNW of Skagway, Alaska\n",
      "M 3.5 - 282km ESE of Kodiak, Alaska\n",
      "M 2.7 - 15km NE of Enid, Oklahoma\n",
      "M 3.5 - 50km ENE of Sterling, Alaska\n",
      "M 3.3 - 231km SE of Kodiak, Alaska\n",
      "M 2.8 - 28km SSW of Esperanza, Puerto Rico\n",
      "M 4.6 - 104km SE of Angoram, Papua New Guinea\n",
      "M 4.1 - 94km SW of Atka, Alaska\n",
      "M 4.0 - 260km SE of Kodiak, Alaska\n",
      "M 4.5 - 73km NNE of Malargue, Argentina\n",
      "M 3.8 - 286km SE of Kodiak, Alaska\n",
      "M 4.7 - 60km ENE of Muara Siberut, Indonesia\n",
      "M 4.2 - 42km SW of Padangsidempuan, Indonesia\n",
      "M 2.5 - 6km SSE of Brawley, CA\n",
      "M 4.8 - 22km NNE of Hualian, Taiwan\n",
      "M 2.7 - 104km ESE of Maneadero, B.C., MX\n",
      "M 3.1 - 55km SE of Punta Cana, Dominican Republic\n",
      "M 4.7 - 9km SE of Manay, Philippines\n",
      "M 4.2 - 248km SE of Kodiak, Alaska\n",
      "M 3.9 - 261km SE of Kodiak, Alaska\n",
      "M 3.1 - 75km ESE of Old Iliamna, Alaska\n",
      "M 3.8 - 257km SE of Kodiak, Alaska\n",
      "M 2.6 - 12km WNW of Puerto Real, Puerto Rico\n",
      "M 3.3 - 66km ESE of Yakutat, Alaska\n",
      "M 4.4 - 40km WNW of Mae Sai, Thailand\n",
      "M 2.5 - 40km WSW of Thermopolis, Wyoming\n",
      "M 2.5 - 107km WNW of Talkeetna, Alaska\n",
      "M 4.9 - 262km ENE of Dili, East Timor\n",
      "M 5.2 - 101km ENE of Visokoi Island, South Georgia and the South Sandwich Islands\n",
      "M 4.4 - 5km WSW of Donja Brela, Croatia\n",
      "M 3.4 - 96km N of Road Town, British Virgin Islands\n",
      "M 3.4 - 18km WSW of Adak, Alaska\n",
      "M 3.4 - 18km WSW of Adak, Alaska\n",
      "M 3.0 - 78km SSW of Kobuk, Alaska\n",
      "M 4.2 - 256km SE of Kodiak, Alaska\n",
      "M 3.6 - Gulf of Alaska\n",
      "M 3.1 - 134km WNW of Haines Junction, Canada\n",
      "M 2.9 - 71km N of Culebra, Puerto Rico\n",
      "M 4.2 - 195km NE of Nord, Greenland\n",
      "M 4.3 - 113km SSE of Galesong, Indonesia\n",
      "M 3.7 - 262km SE of Kodiak, Alaska\n",
      "M 2.8 - 69km SE of Boca de Yuma, Dominican Republic\n",
      "M 4.5 - 235km WNW of Saumlaki, Indonesia\n",
      "M 2.6 - 83km WNW of Skagway, Alaska\n",
      "M 2.7 - 37km WNW of Valdez, Alaska\n",
      "M 4.3 - 103km WNW of Ferndale, CA\n",
      "M 2.5 - 7km NE of Imperial, CA\n",
      "M 3.0 - 101km NNE of Punta Cana, Dominican Republic\n",
      "M 3.8 - 281km SE of Kodiak, Alaska\n",
      "M 4.4 - 6km SSW of Tecoluca, El Salvador\n",
      "M 2.9 - 45km SE of Punta Cana, Dominican Republic\n",
      "M 2.6 - 13km NNE of Round Valley, CA\n",
      "M 2.5 - 18km NNE of Isabela, Puerto Rico\n",
      "M 5.1 - Southeast Indian Ridge\n",
      "M 2.5 - 39km SW of Challis, Idaho\n",
      "M 4.4 - 281km W of Saumlaki, Indonesia\n",
      "M 2.9 - 50km NW of San Antonio, Puerto Rico\n",
      "M 2.9 - 70km N of Tierras Nuevas Poniente, Puerto Rico\n",
      "M 3.1 - 54km NW of Aguadilla, Puerto Rico\n",
      "M 5.1 - 28km WSW of Dadali, Solomon Islands\n",
      "M 2.5 - 12km E of Coalinga, CA\n",
      "M 2.9 - 2km WNW of Vega Baja, Puerto Rico\n",
      "M 4.8 - 204km SSW of Ndoi Island, Fiji\n",
      "M 4.4 - Greenland Sea\n",
      "M 2.5 - 22km NW of San Simeon, CA\n",
      "M 5.2 - 260km NE of Scott Island Bank, Antarctica\n",
      "M 4.6 - 146km WSW of Masachapa, Nicaragua\n",
      "M 3.9 - 12km W of Santa Cruz Verapaz, Guatemala\n",
      "M 2.9 - 219km SE of Kodiak, Alaska\n",
      "M 6.0 - 265km NE of Scott Island Bank, Antarctica\n",
      "M 4.5 - 153km N of Calama, Chile\n",
      "M 3.8 - 73km ESE of Road Town, British Virgin Islands\n",
      "M 3.1 - 80km NNE of Chignik Lake, Alaska\n",
      "M 4.9 - 49km ENE of Neiafu, Tonga\n",
      "M 3.9 - 244km SE of Kodiak, Alaska\n",
      "M 3.8 - 14km SSW of Almaty, Kazakhstan\n",
      "M 4.1 - 117km ESE of Iquique, Chile\n",
      "M 2.6 - 20km W of Perry, Oklahoma\n",
      "M 4.7 - Reykjanes Ridge\n",
      "M 2.5 - 134km WNW of Haines Junction, Canada\n",
      "M 5.1 - Reykjanes Ridge\n",
      "M 2.6 - 55km NNW of Sussex, Canada\n",
      "M 4.9 - 54km NNW of Dobo, Indonesia\n",
      "M 2.9 - 53km W of Rincon, Puerto Rico\n",
      "M 2.6 - 92km SSE of False Pass, Alaska\n",
      "M 2.8 - 56km SE of Punta Cana, Dominican Republic\n"
     ]
    }
   ],
   "source": [
    "# pull out the title from each earthquake listing\n",
    "\n",
    "for q in quakes:\n",
    "    print(q['properties']['title'])"
   ]
  },
  {
   "cell_type": "code",
   "execution_count": 8,
   "metadata": {},
   "outputs": [
    {
     "name": "stdout",
     "output_type": "stream",
     "text": [
      "323\n"
     ]
    }
   ],
   "source": [
    "# pull out magnitudes and depths into a Pandas dataframe, using\n",
    "# a more compact Python syntax for iterating through lists\n",
    "\n",
    "d = {'magnitude': [q['properties']['mag'] for q in quakes],\n",
    "     'depth': [q['geometry']['coordinates'][2] for q in quakes]}\n",
    "\n",
    "df = pd.DataFrame.from_dict(d)\n",
    "\n",
    "# how many earthquakes were loaded into the dataframe?\n",
    "print(len(df))"
   ]
  },
  {
   "cell_type": "code",
   "execution_count": 9,
   "metadata": {},
   "outputs": [
    {
     "name": "stdout",
     "output_type": "stream",
     "text": [
      "   depth  magnitude\n",
      "0  10.00       4.70\n",
      "1  68.50       4.30\n",
      "2   5.59       4.70\n",
      "3   4.88       2.60\n",
      "4   6.00       2.45\n"
     ]
    }
   ],
   "source": [
    "# print the first few lines of data\n",
    "\n",
    "print(df.head())"
   ]
  },
  {
   "cell_type": "code",
   "execution_count": 10,
   "metadata": {},
   "outputs": [
    {
     "name": "stdout",
     "output_type": "stream",
     "text": [
      "            depth   magnitude\n",
      "count  323.000000  323.000000\n",
      "mean    45.350161    3.758019\n",
      "std     86.728451    0.932592\n",
      "min     -0.510000    2.450000\n",
      "25%      9.600000    2.885000\n",
      "50%     11.770000    3.700000\n",
      "75%     44.585000    4.500000\n",
      "max    581.980000    6.400000\n"
     ]
    }
   ],
   "source": [
    "# print some descriptive statistics\n",
    "\n",
    "print(df.describe())"
   ]
  },
  {
   "cell_type": "code",
   "execution_count": 11,
   "metadata": {},
   "outputs": [
    {
     "data": {
      "text/plain": [
       "<matplotlib.axes._subplots.AxesSubplot at 0x140e720d8d0>"
      ]
     },
     "execution_count": 11,
     "metadata": {},
     "output_type": "execute_result"
    },
    {
     "data": {
      "image/png": "[encoded data removed]",
      "text/plain": [
       "<matplotlib.figure.Figure at 0x140e720d898>"
      ]
     },
     "metadata": {},
     "output_type": "display_data"
    }
   ],
   "source": [
    "# plot the depth vs. magnitude\n",
    "\n",
    "df.plot(x='magnitude', y='depth', kind='scatter')"
   ]
  },
  {
   "cell_type": "code",
   "execution_count": 12,
   "metadata": {},
   "outputs": [
    {
     "name": "stdout",
     "output_type": "stream",
     "text": [
      "file saved\n"
     ]
    }
   ],
   "source": [
    "# save the dataframe to disk\n",
    "\n",
    "df.to_csv('usgs_earthquake_data.csv')\n",
    "\n",
    "print('file saved')"
   ]
  },
  {
   "cell_type": "code",
   "execution_count": 13,
   "metadata": {},
   "outputs": [
    {
     "name": "stdout",
     "output_type": "stream",
     "text": [
      "   depth  magnitude\n",
      "0  10.00       4.70\n",
      "1  68.50       4.30\n",
      "2   5.59       4.70\n",
      "3   4.88       2.60\n",
      "4   6.00       2.45\n"
     ]
    }
   ],
   "source": [
    "# read it back later\n",
    "\n",
    "new_df = pd.DataFrame.from_csv('usgs_earthquake_data.csv')\n",
    "\n",
    "print(new_df.head())"
   ]
  },
  {
   "cell_type": "code",
   "execution_count": null,
   "metadata": {
    "collapsed": true
   },
   "outputs": [],
   "source": []
  },
  {
   "cell_type": "code",
   "execution_count": null,
   "metadata": {
    "collapsed": true
   },
   "outputs": [],
   "source": []
  },
  {
   "cell_type": "code",
   "execution_count": null,
   "metadata": {
    "collapsed": true
   },
   "outputs": [],
   "source": []
  },
  {
   "cell_type": "markdown",
   "metadata": {},
   "source": [
    "# Part 2: Querying an API endpoint\n",
    "\n",
    "### Google Maps Geocoding API\n",
    "\n",
    "Google has lots of APIs that let you access its services through code instead of through GUI apps. This one from Google Maps lets you look up the latitude-longitude coordinates of street addresses.\n",
    "\n",
    "It works similarly to the earthquakes example, but with query parameters added to the URL endpoint!\n",
    "\n",
    "**API documentation:**  \n",
    "https://developers.google.com/maps/documentation/geocoding/intro\n",
    "\n",
    "**API endpoint:**  \n",
    "https://maps.googleapis.com/maps/api/geocode/json\n",
    "\n",
    "**API endpoint with query parameters:**  \n",
    "https://maps.googleapis.com/maps/api/geocode/json?address=Wurster+Hall"
   ]
  },
  {
   "cell_type": "code",
   "execution_count": null,
   "metadata": {
    "collapsed": true
   },
   "outputs": [],
   "source": [
    "import json    # library for working with JSON-formatted text strings\n",
    "import requests  # library for accessing content from web URLs\n",
    "\n",
    "import pprint  # library for making Python data structures readable\n",
    "pp = pprint.PrettyPrinter()"
   ]
  },
  {
   "cell_type": "code",
   "execution_count": null,
   "metadata": {},
   "outputs": [],
   "source": [
    "# we have to encode the search query so that it can be passed as a URL, \n",
    "# with spaces and other special characters removed\n",
    "\n",
    "endpoint = 'https://maps.googleapis.com/maps/api/geocode/json'\n",
    "\n",
    "params = {'address': 'young library uky'}\n",
    "\n",
    "url = requests.Request('GET', endpoint, params=params).prepare().url\n",
    "print(url)"
   ]
  },
  {
   "cell_type": "code",
   "execution_count": null,
   "metadata": {},
   "outputs": [],
   "source": [
    "# download and parse the results\n",
    "\n",
    "response = requests.get(url)\n",
    "results = response.text\n",
    "data = json.loads(results)\n",
    "\n",
    "print(data)"
   ]
  },
  {
   "cell_type": "code",
   "execution_count": null,
   "metadata": {},
   "outputs": [],
   "source": [
    "# print it more nicely\n",
    "\n",
    "pp.pprint(data)"
   ]
  },
  {
   "cell_type": "code",
   "execution_count": null,
   "metadata": {},
   "outputs": [],
   "source": [
    "# pull out the lat-lon coordinates\n",
    "\n",
    "for r in data['results']:\n",
    "    coords = r['geometry']['location']\n",
    "    print(coords['lat'], coords['lng'])"
   ]
  },
  {
   "cell_type": "markdown",
   "metadata": {},
   "source": [
    "### Exercises\n",
    "\n",
    "1. Search for some other addresses or landmarks!\n",
    "2. Take a look at the [API documentation](https://developers.google.com/maps/documentation/geocoding/intro). What are the usage limits?"
   ]
  },
  {
   "cell_type": "code",
   "execution_count": null,
   "metadata": {
    "collapsed": true
   },
   "outputs": [],
   "source": []
  },
  {
   "cell_type": "code",
   "execution_count": null,
   "metadata": {
    "collapsed": true
   },
   "outputs": [],
   "source": []
  },
  {
   "cell_type": "code",
   "execution_count": null,
   "metadata": {
    "collapsed": true
   },
   "outputs": [],
   "source": []
  },
  {
   "cell_type": "markdown",
   "metadata": {},
   "source": [
    "# Part 3: Querying an API with authentication\n",
    "\n",
    "### Twitter REST APIs\n",
    "\n",
    "Twitter's APIs also operate over the web, but they require a back-and-forth authentication process at the beginning of each connection. It's easier to have a Python library handle this than to create the query URLs ourselves.\n",
    "\n",
    "The Twitter \"REST\" APIs perform stand-alone operations: you submit a query and receive results, like in earlier examples. ([REST](https://en.wikipedia.org/wiki/Representational_state_transfer) is a particular set of guidelines that many APIs follow.) Twitter also has a \"streaming\" API that continues sending results in real time until you disconnect.\n",
    "\n",
    "**API documentation:**  \n",
    "https://dev.twitter.com/rest/public  \n",
    "https://dev.twitter.com/overview/api/tweets\n",
    "\n",
    "**Documentation for the Python helper library**:  \n",
    "https://github.com/geduldig/TwitterAPI"
   ]
  },
  {
   "cell_type": "code",
   "execution_count": null,
   "metadata": {},
   "outputs": [],
   "source": [
    "from TwitterAPI import TwitterAPI\n",
    "\n",
    "import pprint  # library for making Python data structures readable\n",
    "pp = pprint.PrettyPrinter()"
   ]
  },
  {
   "cell_type": "code",
   "execution_count": null,
   "metadata": {},
   "outputs": [],
   "source": [
    "# import API credentials from keys.py file in the\n",
    "# same directory as this notebook\n",
    "\n",
    "from keys import *"
   ]
  },
  {
   "cell_type": "code",
   "execution_count": null,
   "metadata": {},
   "outputs": [],
   "source": [
    "# set up an API connection using credentials from the keys file\n",
    "\n",
    "api = TwitterAPI(consumer_key, consumer_secret, \n",
    "                 access_token, access_token_secret)\n",
    "\n",
    "print(\"Connection is set up but not tested\")"
   ]
  },
  {
   "cell_type": "markdown",
   "metadata": {},
   "source": [
    "### Making a simple data request"
   ]
  },
  {
   "cell_type": "code",
   "execution_count": null,
   "metadata": {},
   "outputs": [],
   "source": [
    "# most recent tweet from @UCBerkeley's timeline\n",
    "\n",
    "endpoint = 'statuses/user_timeline'\n",
    "params = {\n",
    "    'screen_name': 'UKAthletics', \n",
    "    'count': 1\n",
    "}\n",
    "r = api.request(endpoint, params)\n",
    "\n",
    "for tweet in r.get_iterator():\n",
    "    print(tweet['text'])"
   ]
  },
  {
   "cell_type": "code",
   "execution_count": null,
   "metadata": {},
   "outputs": [],
   "source": [
    "# what other data is there?\n",
    "\n",
    "pp.pprint(tweet)"
   ]
  },
  {
   "cell_type": "markdown",
   "metadata": {},
   "source": [
    "### Other API endpoints allow different types of searches"
   ]
  },
  {
   "cell_type": "code",
   "execution_count": null,
   "metadata": {},
   "outputs": [],
   "source": [
    "# search for public tweets about #bart\n",
    "\n",
    "endpoint = 'search/tweets'\n",
    "params = {\n",
    "    'q': '#kentuckywildcats', \n",
    "    'count': 5\n",
    "}\n",
    "r = api.request(endpoint, params)\n",
    "\n",
    "for tweet in r.get_iterator():\n",
    "    print(tweet['text'] + '\\n')"
   ]
  },
  {
   "cell_type": "code",
   "execution_count": null,
   "metadata": {},
   "outputs": [],
   "source": [
    "# search for public tweets in Hindi\n",
    "\n",
    "endpoint = 'search/tweets'\n",
    "params = {\n",
    "    'q': '*', \n",
    "    'lang': 'hi', \n",
    "    'count': 5\n",
    "} \n",
    "r = api.request(endpoint, params)\n",
    "\n",
    "for tweet in r.get_iterator():\n",
    "    print(tweet['text'] + '\\n')"
   ]
  },
  {
   "cell_type": "code",
   "execution_count": null,
   "metadata": {},
   "outputs": [],
   "source": [
    "# search for public tweets geotagged near the UK campus\n",
    "\n",
    "endpoint = 'search/tweets'\n",
    "params = {\n",
    "    'q': '*', \n",
    "    'geocode': '38.034,-84.500,0.5km', \n",
    "    'count': 5\n",
    "} \n",
    "r = api.request(endpoint, params)\n",
    "\n",
    "for tweet in r.get_iterator():\n",
    "    print(tweet['text'] + '\\n')"
   ]
  },
  {
   "cell_type": "markdown",
   "metadata": {},
   "source": [
    "### Exercises\n",
    "\n",
    "1. Try some different search queries!\n",
    "2. Display some more data fields in addition to the tweet text"
   ]
  },
  {
   "cell_type": "code",
   "execution_count": null,
   "metadata": {
    "collapsed": true
   },
   "outputs": [],
   "source": []
  },
  {
   "cell_type": "code",
   "execution_count": null,
   "metadata": {
    "collapsed": true
   },
   "outputs": [],
   "source": []
  },
  {
   "cell_type": "code",
   "execution_count": null,
   "metadata": {
    "collapsed": true
   },
   "outputs": [],
   "source": []
  },
  {
   "cell_type": "markdown",
   "metadata": {},
   "source": [
    "### Bonus: Streaming live tweets in real time "
   ]
  },
  {
   "cell_type": "code",
   "execution_count": null,
   "metadata": {},
   "outputs": [],
   "source": [
    "# Twitter limits simultaneous connections to the streaming API,\n",
    "# so this part may not work using the demo API keys during class\n",
    "\n",
    "endpoint = 'statuses/filter'\n",
    "params = {'locations': '-180,-90,180,90'}\n",
    "r = api.request(endpoint, params)\n",
    "LIMIT = 20\n",
    "\n",
    "# 'enumerate' lets us count tweets as we receive them\n",
    "\n",
    "for i, tweet in enumerate(r.get_iterator()):\n",
    "    print(tweet['created_at'])\n",
    "    print(tweet['place']['full_name'] + ', ' + tweet['place']['country'])\n",
    "    print(tweet['text'] + '\\n')\n",
    "    if (i > LIMIT): break\n",
    "\n",
    "# close the streaming connection\n",
    "r.close()"
   ]
  },
  {
   "cell_type": "code",
   "execution_count": null,
   "metadata": {
    "collapsed": true
   },
   "outputs": [],
   "source": []
  },
  {
   "cell_type": "code",
   "execution_count": null,
   "metadata": {
    "collapsed": true
   },
   "outputs": [],
   "source": []
  },
  {
   "cell_type": "code",
   "execution_count": null,
   "metadata": {
    "collapsed": true
   },
   "outputs": [],
   "source": []
  },
  {
   "cell_type": "markdown",
   "metadata": {},
   "source": [
    "### Exercises for the remainder of class\n",
    "\n",
    "1. Make a scatter plot of the lat-lon coordinates of earthquakes.  \n",
    "   &nbsp;\n",
    "   \n",
    "2. Using the geocoding example as a starting point, try searching the Google Maps Directions API or Elevation API instead. Descriptions are in the [API documentation](https://developers.google.com/maps/documentation/geocoding/intro).  \n",
    "   &nbsp;\n",
    "   "
   ]
  },
  {
   "cell_type": "code",
   "execution_count": null,
   "metadata": {
    "collapsed": true
   },
   "outputs": [],
   "source": []
  },
  {
   "cell_type": "markdown",
   "metadata": {
    "collapsed": true
   },
   "source": [
    "### For next time...\n",
    "\n",
    "In the next class, you will try out another API that provides data you're interested in. You will be asked to try connecting to it using Python code, and performing some basic operations on the data.  To come prepared for next time, please explore some of the transportation-related APIs that may be valuable, and choose one that is of interest to you.\n",
    "\n",
    "Here are a a few to get you started. \n",
    "\n",
    "Public Transit\n",
    "https://www.programmableweb.com/news/how-smart-cities-are-using-apis-public-transport-apis/2014/05/22\n",
    "\n",
    "Long-Distance Travel\n",
    "http://www.olery.com/blog/the-best-travel-apis-discover-contribute/ \n",
    "\n",
    "Transportation\n",
    "https://www.programmableweb.com/category/transportation/api\n",
    "\n",
    "\n",
    "Start by reading the public transit page, because that provides a nice overview of the types of applications out there, and some of the issues in using them.  These lessons often apply to traffic and transportation more generally.  \n",
    "\n",
    "Keep in mind that there are a number of different organizations that provide APIs, with different motivations and quality of what is provided.  If it is a private company, what is their business model?  What is the underlying source of the data, and what might that imply about how representative it is of the real world?  There is a ton of stuff out there.  How do we go about sorting out what is useful to us and what is now.  Spend some time exploring these and thinking about these questions.  \n"
   ]
  },
  {
   "cell_type": "code",
   "execution_count": null,
   "metadata": {
    "collapsed": true
   },
   "outputs": [],
   "source": []
  },
  {
   "cell_type": "code",
   "execution_count": null,
   "metadata": {
    "collapsed": true
   },
   "outputs": [],
   "source": []
  }
 ],
 "metadata": {
  "anaconda-cloud": {},
  "kernelspec": {
   "display_name": "Python 3",
   "language": "python",
   "name": "python3"
  },
  "language_info": {
   "codemirror_mode": {
    "name": "ipython",
    "version": 3
   },
   "file_extension": ".py",
   "mimetype": "text/x-python",
   "name": "python",
   "nbconvert_exporter": "python",
   "pygments_lexer": "ipython3",
   "version": "3.6.3"
  }
 },
 "nbformat": 4,
 "nbformat_minor": 1
}
